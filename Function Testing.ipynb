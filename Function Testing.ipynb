{
 "cells": [
  {
   "cell_type": "code",
   "execution_count": null,
   "id": "803035d8",
   "metadata": {},
   "outputs": [],
   "source": [
    "import pandas as pd\n",
    "import numpy as np\n",
    "from binance.client import Client\n",
    "from datetime import datetime, timedelta, timezone\n",
    "import os\n",
    "import pandas_ta as ta\n",
    "from tqdm import tqdm\n",
    "import time \n",
    "import pytz\n",
    "import os\n",
    "# os.system('cls' if os.name == 'nt' else 'clear')\n",
    "from IPython.display import clear_output\n",
    "# clear_output(wait=True)\n",
    "import importlib\n",
    "import BaseFunctions\n",
    "importlib.reload(BaseFunctions)\n",
    "from BaseFunctions import *\n",
    "\n",
    "import StrategyList\n",
    "importlib.reload(StrategyList)\n",
    "from StrategyList import *\n",
    "# Load API credentials from environment variables\n",
    "API_KEY = os.getenv(\"BinanceAPI_250502\")\n",
    "API_SECRET = os.getenv(\"BinanceSecret_250502\")\n",
    "\n",
    "client = Client(API_KEY, API_SECRET) if API_KEY and API_SECRET else Client()\n",
    "\n",
    "BackTime = \"2025-05-01 00:00:00\"\n",
    "# Convert string to naive datetime object\n",
    "BackTime = datetime.strptime(BackTime, '%Y-%m-%d %H:%M:%S')\n",
    "# Make it timezone-aware (UTC)\n",
    "BackTime = BackTime.replace(tzinfo=timezone.utc)\n",
    "print(BackTime)\n",
    "\n",
    "BackTime = int(BackTime.timestamp() * 1000)  # Convert to milliseconds\n",
    "Interval = '5m'\n",
    "current_time = time.time()\n",
    "pair = 'BTCUSDT'\n",
    "\n",
    "BuySellFlag = 'Hold'\n",
    "BuyCounter = 0\n",
    "SellCounter = 0"
   ]
  },
  {
   "cell_type": "code",
   "execution_count": null,
   "id": "bcfa19d4",
   "metadata": {},
   "outputs": [],
   "source": [
    "BackCandles = get_candles_data(pair, Interval, 1000, BackTime, client)\n",
    "# Metric = calculate_metrics(BackCandles, pair)\n",
    "SCORE = allstrategiesv2(BackCandles, pair, client, BackTime)\n",
    "\n",
    "print(SCORE)"
   ]
  },
  {
   "cell_type": "code",
   "execution_count": null,
   "id": "a7cc9b8e",
   "metadata": {},
   "outputs": [],
   "source": []
  }
 ],
 "metadata": {
  "kernelspec": {
   "display_name": "Python 3",
   "language": "python",
   "name": "python3"
  },
  "language_info": {
   "codemirror_mode": {
    "name": "ipython",
    "version": 3
   },
   "file_extension": ".py",
   "mimetype": "text/x-python",
   "name": "python",
   "nbconvert_exporter": "python",
   "pygments_lexer": "ipython3",
   "version": "3.9.6"
  }
 },
 "nbformat": 4,
 "nbformat_minor": 5
}
