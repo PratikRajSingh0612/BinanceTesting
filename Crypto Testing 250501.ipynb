{
 "cells": [
  {
   "cell_type": "code",
   "execution_count": null,
   "id": "c844172c",
   "metadata": {},
   "outputs": [],
   "source": [
    "import pandas as pd\n",
    "import numpy as np\n",
    "from binance.client import Client\n",
    "from datetime import datetime, timedelta, timezone\n",
    "import os\n",
    "import pandas_ta as ta\n",
    "from tqdm import tqdm\n",
    "import time \n",
    "import pytz\n",
    "import os\n",
    "# os.system('cls' if os.name == 'nt' else 'clear')\n",
    "from IPython.display import clear_output\n",
    "# clear_output(wait=True)"
   ]
  },
  {
   "cell_type": "code",
   "execution_count": 16,
   "id": "a36ad1ec",
   "metadata": {},
   "outputs": [],
   "source": [
    "import importlib\n",
    "import BaseFunctions\n",
    "importlib.reload(BaseFunctions)\n",
    "from BaseFunctions import *\n",
    "\n",
    "import StrategyList\n",
    "importlib.reload(StrategyList)\n",
    "from StrategyList import *"
   ]
  },
  {
   "cell_type": "code",
   "execution_count": null,
   "id": "ad2cd4d2",
   "metadata": {},
   "outputs": [],
   "source": [
    "# Load API credentials from environment variables\n",
    "API_KEY = os.getenv(\"BinanceAPI_250502\")\n",
    "API_SECRET = os.getenv(\"BinanceSecret_250502\")"
   ]
  },
  {
   "cell_type": "code",
   "execution_count": null,
   "id": "7b7360af",
   "metadata": {},
   "outputs": [],
   "source": [
    "# Initialize Binance client\n",
    "client = Client(API_KEY, API_SECRET) if API_KEY and API_SECRET else Client()"
   ]
  },
  {
   "cell_type": "code",
   "execution_count": null,
   "id": "c9eedeb6",
   "metadata": {},
   "outputs": [],
   "source": [
    "# Get market details\n",
    "market_details = getMarketDetails(client)\n",
    "# market_details = pd.DataFrame(market_details)\n",
    "pair_names = market_details['pair'].tolist()\n",
    "# print(market_details)\n",
    "\n",
    "# Get balance for a specific asset\n",
    "getBalance(client, \"BTC\")"
   ]
  },
  {
   "cell_type": "code",
   "execution_count": null,
   "id": "35b7459e",
   "metadata": {},
   "outputs": [],
   "source": [
    "BackTime = \"2025-05-01 00:00:00\"\n",
    "# Convert string to naive datetime object\n",
    "BackTime = datetime.strptime(BackTime, '%Y-%m-%d %H:%M:%S')\n",
    "# Make it timezone-aware (UTC)\n",
    "BackTime = BackTime.replace(tzinfo=timezone.utc)\n",
    "print(BackTime)"
   ]
  },
  {
   "cell_type": "code",
   "execution_count": null,
   "id": "1e67d18f",
   "metadata": {},
   "outputs": [],
   "source": [
    "BackTime = int(BackTime.timestamp() * 1000)  # Convert to milliseconds\n",
    "Interval = '5m'\n",
    "current_time = time.time()\n",
    "pair = 'BTCUSDT'\n",
    "\n",
    "BuySellFlag = 'Hold'\n",
    "BuyCounter = 0\n",
    "SellCounter = 0"
   ]
  },
  {
   "cell_type": "code",
   "execution_count": null,
   "id": "5c2ecfd6",
   "metadata": {},
   "outputs": [],
   "source": [
    "BackCandles = get_candles_data(pair, Interval, 1000, BackTime, client)\n",
    "# Metric = calculate_metrics(BackCandles, pair)\n",
    "SCORE = allstrategiesv2(BackCandles)\n",
    "\n",
    "print(SCORE)"
   ]
  },
  {
   "cell_type": "code",
   "execution_count": null,
   "id": "e7c801a0",
   "metadata": {},
   "outputs": [],
   "source": [
    "allcandles = pd.DataFrame()\n",
    "\n",
    "# while BackTime < current_time * 1000:\n",
    "while BackTime < time.time() * 1000:\n",
    "\n",
    "    # Clear the console at the start of each iteration\n",
    "    clear_output(wait=True)\n",
    "    \n",
    "    Lastcandle = pd.DataFrame()\n",
    "\n",
    "    BackTime = BackTime + (5*60*1000)  # Increment by 5 minutes\n",
    "\n",
    "    # print(BackTime)\n",
    "    BackCandles = get_candles_data(pair, Interval, 250, BackTime, client)\n",
    "    Lastcandle = BackCandles.iloc[[-1]].copy()\n",
    "    print(Lastcandle)\n",
    "    # print(Lastcandle.to_frame().T)\n",
    "    Metric = calculate_metrics(BackCandles, pair)\n",
    "\n",
    "    selected_columns = ['Per_Volume', 'Latest_MACD_Scenario', 'Latest_MACD_ScenarioCounter', 'MACD_Score', 'DyingCoinFlag_EMA']\n",
    "    Lastcandle = pd.concat([Lastcandle.reset_index(drop=True), Metric[selected_columns].reset_index(drop=True)], axis=1)\n",
    "\n",
    "    if Metric['Per_Volume'].iloc[0]>1.75 and Metric['Latest_MACD_Scenario'].iloc[0] == 'Bullish Increasing (Increasing)' and BuySellFlag != 'Buy':\n",
    "        BuySellFlag = 'Buy'\n",
    "        Lastcandle['BuySellFlag'] = BuySellFlag\n",
    "        BuyCounter += 1\n",
    "        print('Buy Triggered : ', Lastcandle['Close'], \" || Counter: \", BuyCounter)\n",
    "    elif Metric['Per_Volume'].iloc[0]>1.75 and Metric['Latest_MACD_Scenario'].iloc[0] == 'Bearish Decreasing (Decreasing)' and BuySellFlag == 'Buy':\n",
    "        BuySellFlag = 'Sell'\n",
    "        Lastcandle['BuySellFlag'] = BuySellFlag\n",
    "        SellCounter += 1\n",
    "        print('Sell Triggered : ', Lastcandle['Close'], \" || Counter: \", SellCounter)\n",
    "    else:\n",
    "        Lastcandle['BuySellFlag'] = 'Hold'\n",
    "        # print(\"No Action Triggered (Time: \", BackTime, \")\")\n",
    "    \n",
    "    allcandles = pd.concat([allcandles, Lastcandle], ignore_index=True)\n"
   ]
  },
  {
   "cell_type": "code",
   "execution_count": null,
   "id": "146953f8",
   "metadata": {},
   "outputs": [],
   "source": [
    "testconsolidatedActionData = allcandles.copy()\n",
    "\n",
    "from backtesting import Backtest, Strategy\n",
    "from backtesting.lib import crossover\n",
    "\n",
    "from backtesting.test import SMA, GOOG\n",
    "\n",
    "\n",
    "class prsStrategy(Strategy):\n",
    "\n",
    "    def init(self):\n",
    "        pass\n",
    "\n",
    "    def next(self):\n",
    "        if self.data.BuySellFlag == 'Buy':\n",
    "            self.buy()\n",
    "        elif self.data.BuySellFlag == 'Sell':\n",
    "            self.sell()\n",
    "\n",
    "# BuySellSignal = allcandles.rename(columns={'open': 'Open', 'close': 'Close', 'high': 'High', 'low': 'Low', 'volume': 'Volume'})\n",
    "bt = Backtest(allcandles, \n",
    "              prsStrategy,\n",
    "              cash=10000,  \n",
    "              exclusive_orders=True,\n",
    "              commission = 0.012)\n",
    "\n",
    "stats = bt.run()\n",
    "bt.plot()\n",
    "print(stats)"
   ]
  }
 ],
 "metadata": {
  "kernelspec": {
   "display_name": "Python 3",
   "language": "python",
   "name": "python3"
  },
  "language_info": {
   "codemirror_mode": {
    "name": "ipython",
    "version": 3
   },
   "file_extension": ".py",
   "mimetype": "text/x-python",
   "name": "python",
   "nbconvert_exporter": "python",
   "pygments_lexer": "ipython3",
   "version": "3.9.6"
  }
 },
 "nbformat": 4,
 "nbformat_minor": 5
}
